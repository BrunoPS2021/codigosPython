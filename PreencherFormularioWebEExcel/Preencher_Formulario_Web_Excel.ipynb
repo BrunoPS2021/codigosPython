{
 "cells": [
  {
   "cell_type": "code",
   "execution_count": 3,
   "metadata": {},
   "outputs": [
    {
     "name": "stderr",
     "output_type": "stream",
     "text": [
      "The chromedriver version (126.0.6478.127) detected in PATH at c:\\Users\\bruno.pereira.silva\\AppData\\Local\\anaconda3\\chromedriver.exe might not be compatible with the detected chrome version (127.0.6533.72); currently, chromedriver 127.0.6533.72 is recommended for chrome 127.*, so it is advised to delete the driver in PATH and retry\n"
     ]
    }
   ],
   "source": [
    "from selenium import webdriver as opcoesSelenium\n",
    "from selenium.webdriver.common.by import By\n",
    "from selenium.webdriver.common.keys import Keys\n",
    "import pyautogui as tempoEspera\n",
    "\n",
    "navegadorFormulario = opcoesSelenium.Chrome()\n",
    "navegadorFormulario.get(\"https://pt.surveymonkey.com/r/WLXYDX2\")\n",
    "\n",
    "tempoEspera.sleep(6)\n",
    "\n",
    "nome = navegadorFormulario.find_element(By.NAME,'166517069')\n",
    "tempoEspera.sleep(1)\n",
    "nome.send_keys(\"Amanda Martins\")\n",
    "\n",
    "tempoEspera.sleep(1)\n",
    "\n",
    "#----------------------------------------------------------------\n",
    "\n",
    "email = navegadorFormulario.find_element(By.NAME,'166517072')\n",
    "tempoEspera.sleep(1)\n",
    "email.send_keys(\"amandamartins2024@gmail.com\")\n",
    "\n",
    "tempoEspera.sleep(1)\n",
    "\n",
    "#----------------------------------------------------------------\n",
    "\n",
    "telefone = navegadorFormulario.find_element(By.NAME,'166517070')\n",
    "tempoEspera.sleep(1)\n",
    "telefone.send_keys(\"(87) 98836 - 5555\")\n",
    "\n",
    "tempoEspera.sleep(1)\n",
    "\n",
    "#----------------------------------------------------------------\n",
    "\n",
    "telefone = navegadorFormulario.find_element(By.NAME,'166517073')\n",
    "tempoEspera.sleep(1)\n",
    "telefone.send_keys(\"Sei automatizar processo e planilhas no python\")\n",
    "\n",
    "tempoEspera.sleep(1)\n",
    "\n",
    "#----------------------------------------------------------------\n",
    "\n",
    "radio_button = navegadorFormulario.find_element(By.ID,'166517071_1215509813_label')\n",
    "tempoEspera.sleep(1)\n",
    "radio_button.click()\n",
    "\n",
    "tempoEspera.sleep(6)\n",
    "\n",
    "enviar = navegadorFormulario.find_element(By.XPATH,'//*[@id=\"patas\"]/main/article/section/form/div[2]/button')\n",
    "#enviar.click()"
   ]
  },
  {
   "cell_type": "code",
   "execution_count": 8,
   "metadata": {},
   "outputs": [
    {
     "name": "stderr",
     "output_type": "stream",
     "text": [
      "The chromedriver version (126.0.6478.127) detected in PATH at c:\\Users\\bruno.pereira.silva\\AppData\\Local\\anaconda3\\chromedriver.exe might not be compatible with the detected chrome version (127.0.6533.72); currently, chromedriver 127.0.6533.72 is recommended for chrome 127.*, so it is advised to delete the driver in PATH and retry\n",
      "The chromedriver version (126.0.6478.127) detected in PATH at c:\\Users\\bruno.pereira.silva\\AppData\\Local\\anaconda3\\chromedriver.exe might not be compatible with the detected chrome version (127.0.6533.72); currently, chromedriver 127.0.6533.72 is recommended for chrome 127.*, so it is advised to delete the driver in PATH and retry\n",
      "The chromedriver version (126.0.6478.127) detected in PATH at c:\\Users\\bruno.pereira.silva\\AppData\\Local\\anaconda3\\chromedriver.exe might not be compatible with the detected chrome version (127.0.6533.72); currently, chromedriver 127.0.6533.72 is recommended for chrome 127.*, so it is advised to delete the driver in PATH and retry\n",
      "The chromedriver version (126.0.6478.127) detected in PATH at c:\\Users\\bruno.pereira.silva\\AppData\\Local\\anaconda3\\chromedriver.exe might not be compatible with the detected chrome version (127.0.6533.72); currently, chromedriver 127.0.6533.72 is recommended for chrome 127.*, so it is advised to delete the driver in PATH and retry\n"
     ]
    }
   ],
   "source": [
    "from openpyxl import load_workbook\n",
    "from selenium import webdriver as opcoesSelenium\n",
    "from selenium.webdriver.common.by import By\n",
    "from selenium.webdriver.common.keys import Keys\n",
    "from selenium.webdriver.support.ui import WebDriverWait\n",
    "from selenium.webdriver.support import expected_conditions as EC\n",
    "import pyautogui as tempoEspera\n",
    "\n",
    "nome_caminho = 'DadosFormulario.xlsx'\n",
    "planilha_aberta = load_workbook(filename=nome_caminho)\n",
    "sheet_selecionada = planilha_aberta['Dados']\n",
    "\n",
    "for linha in range(2, len(sheet_selecionada['A'])+1 ):\n",
    "\n",
    "    nome = sheet_selecionada[f'A{linha}'].value\n",
    "    email = sheet_selecionada[f'B{linha}'].value\n",
    "    telefone = sheet_selecionada[f'C{linha}'].value\n",
    "    sexo = sheet_selecionada[f'D{linha}'].value\n",
    "    sobre = sheet_selecionada[f'E{linha}'].value\n",
    "\n",
    "    navegadorFormulario = opcoesSelenium.Chrome()\n",
    "    navegadorFormulario.get('https://pt.surveymonkey.com/r/WLXYDX2')\n",
    "\n",
    "    espera = WebDriverWait(navegadorFormulario, 30)\n",
    "\n",
    "    campo_nome = espera.until(EC.presence_of_element_located((By.NAME,'166517069')))\n",
    "    campo_nome.send_keys(nome)\n",
    "\n",
    "    #----------------------------------------------------------------\n",
    "\n",
    "    campo_email = espera.until(EC.presence_of_element_located((By.NAME,'166517072')))\n",
    "    campo_email.send_keys(email)\n",
    "    \n",
    "    #----------------------------------------------------------------\n",
    "\n",
    "    campo_telefone = espera.until(EC.presence_of_element_located((By.NAME,'166517070')))\n",
    "    campo_telefone.send_keys(telefone)\n",
    "    \n",
    "    #----------------------------------------------------------------\n",
    "\n",
    "    campo_sobre = espera.until(EC.presence_of_element_located((By.NAME,'166517073')))\n",
    "    campo_sobre.send_keys(sobre)\n",
    "    \n",
    "    #----------------------------------------------------------------\n",
    "\n",
    "    if sexo == 'Feminino':\n",
    "        botao_feminino = espera.until(EC.element_to_be_clickable((By.ID,'166517071_1215509813_label')))\n",
    "        botao_feminino.click()\n",
    "    else:\n",
    "        botao_masculino = espera.until(EC.element_to_be_clickable((By.ID,'166517071_1215509812_label')))\n",
    "        botao_masculino.click()\n",
    "\n",
    "    \n",
    "    #botao_enviar = espera.until(EC.element_to_be_clickable((By.XPATH,'//*[@id=\"patas\"]/main/article/section/form/div[2]/button')))\n",
    "    #botao_enviar.click()"
   ]
  }
 ],
 "metadata": {
  "kernelspec": {
   "display_name": "base",
   "language": "python",
   "name": "python3"
  },
  "language_info": {
   "codemirror_mode": {
    "name": "ipython",
    "version": 3
   },
   "file_extension": ".py",
   "mimetype": "text/x-python",
   "name": "python",
   "nbconvert_exporter": "python",
   "pygments_lexer": "ipython3",
   "version": "3.11.7"
  }
 },
 "nbformat": 4,
 "nbformat_minor": 2
}
