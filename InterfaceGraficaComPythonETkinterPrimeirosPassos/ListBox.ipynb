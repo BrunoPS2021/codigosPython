{
 "cells": [
  {
   "cell_type": "code",
   "execution_count": 1,
   "metadata": {},
   "outputs": [],
   "source": [
    "from tkinter import *\n",
    "from tkinter import messagebox\n",
    "from tkinter import ttk\n",
    "\n",
    "janela = Tk()\n",
    "janela.geometry(\"500x600\")\n",
    "janela.title(\"Listbox\")\n",
    "\n",
    "textoDiaSemana = Label(janela,text=\"Dia da Semana\",font=\"Arial 40\")\n",
    "textoDiaSemana.pack()\n",
    "\n",
    "listaNomes = (\"Ana\",\"Amanda\",\"Cesar\")\n",
    "\n",
    "variavelNomes = Variable(value=listaNomes)\n",
    "\n",
    "listboxExemplo = Listbox(janela,\n",
    "                         listvariable=variavelNomes, \n",
    "                         height=6,\n",
    "                         font=\"Arial 40\",\n",
    "                         selectmode=MULTIPLE)#Determina o numero de itens que podem ser selecionados(BROWSE/SINGLE/MULTIPLE/EXTENDED)\n",
    "\n",
    "listboxExemplo.pack(expand=True,fill=BOTH)#Expande -> centraliza, Fill -> Expande(ocupa tela inteira)\n",
    "\n",
    "def itemSelecionado(evento):\n",
    "    indiceSelecionado = listboxExemplo.curselection()\n",
    "    item = \",\".join([listboxExemplo.get(posicao) for posicao in indiceSelecionado])\n",
    "    mensagem = \"Você selecionou: \" + item\n",
    "    messagebox.showinfo(title=\"Atenção!\",message=mensagem)\n",
    "\n",
    "listboxExemplo.bind(\"<<ListboxSelect>>\", itemSelecionado)\n",
    "\n",
    "textoParaAdicionar = Entry(font=\"Arial 40\")\n",
    "textoParaAdicionar.pack()\n",
    "\n",
    "def addItem():\n",
    "    listboxExemplo.insert(END,str(textoParaAdicionar.get()))\n",
    "\n",
    "botaoAdicionar = Button(text=\"Adicionar Item Na Lista\",font=\"Arial 20\",command=addItem)\n",
    "botaoAdicionar.pack()\n",
    "\n",
    "janela.mainloop()"
   ]
  }
 ],
 "metadata": {
  "kernelspec": {
   "display_name": "base",
   "language": "python",
   "name": "python3"
  },
  "language_info": {
   "codemirror_mode": {
    "name": "ipython",
    "version": 3
   },
   "file_extension": ".py",
   "mimetype": "text/x-python",
   "name": "python",
   "nbconvert_exporter": "python",
   "pygments_lexer": "ipython3",
   "version": "3.11.7"
  }
 },
 "nbformat": 4,
 "nbformat_minor": 2
}
