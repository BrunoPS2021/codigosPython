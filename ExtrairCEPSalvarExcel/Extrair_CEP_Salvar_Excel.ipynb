{
 "cells": [
  {
   "cell_type": "code",
   "execution_count": 3,
   "metadata": {},
   "outputs": [
    {
     "name": "stdout",
     "output_type": "stream",
     "text": [
      "{'cep': '53429-080', 'logradouro': 'Rua Chile', 'complemento': '', 'unidade': '', 'bairro': 'Nossa Senhora do Ó', 'localidade': 'Paulista', 'uf': 'PE', 'ibge': '2610707', 'gia': '', 'ddd': '81', 'siafi': '2513'}\n"
     ]
    }
   ],
   "source": [
    "import http.client\n",
    "\n",
    "import json\n",
    "\n",
    "def obter_endereco_por_cep(cep):\n",
    "    conexao = http.client.HTTPConnection(\"viacep.com.br\")\n",
    "    conexao.request(\"GET\", f\"/ws/{cep}/json/\")\n",
    "    resposta = conexao.getresponse()\n",
    "    dados = resposta.read()\n",
    "    endereco = json.loads(dados.decode(\"utf-8\"))\n",
    "    conexao.close()\n",
    "\n",
    "    if \"erro\" not in endereco:\n",
    "        return endereco\n",
    "    else:\n",
    "        return \"CEP não encontrado.\"\n",
    "\n",
    "cep_exemplo = \"53429080\"\n",
    "\n",
    "endereco_resultado = obter_endereco_por_cep(cep_exemplo)\n",
    "\n",
    "print(endereco_resultado)"
   ]
  },
  {
   "cell_type": "code",
   "execution_count": null,
   "metadata": {},
   "outputs": [],
   "source": [
    "pip install pandas openpyxl"
   ]
  },
  {
   "cell_type": "code",
   "execution_count": 5,
   "metadata": {},
   "outputs": [
    {
     "name": "stdout",
     "output_type": "stream",
     "text": [
      "Dados salvos com sucesso no arquivo endereco.xlsx.\n"
     ]
    }
   ],
   "source": [
    "import http.client\n",
    "import json\n",
    "import pandas as pd\n",
    "\n",
    "def obter_endereco_por_cep(cep):\n",
    "    conexao = http.client.HTTPConnection(\"viacep.com.br\")\n",
    "    conexao.request(\"GET\", f\"/ws/{cep}/json/\")\n",
    "    resposta = conexao.getresponse()\n",
    "    dados = resposta.read()\n",
    "    endereco = json.loads(dados.decode(\"utf-8\"))\n",
    "    conexao.close()\n",
    "\n",
    "    if \"erro\" not in endereco:\n",
    "        return endereco\n",
    "    else:\n",
    "        return \"CEP não encontrado.\"\n",
    "\n",
    "cep_exemplo = \"53429080\"\n",
    "\n",
    "endereco_resultado = obter_endereco_por_cep(cep_exemplo)\n",
    "\n",
    "def salvar_endereco_excel(endereco, nome_arquivo=\"endereco.xlsx\"):\n",
    "    if \"erro\" not in endereco:\n",
    "        df = pd.DataFrame([endereco])\n",
    "        df.to_excel(nome_arquivo, index=False)\n",
    "        print(f\"Dados salvos com sucesso no arquivo {nome_arquivo}.\")\n",
    "    \n",
    "    else:\n",
    "        print(f\"Não foi possível salvar os dados: CEP não encontrado.\")\n",
    "\n",
    "salvar_endereco_excel(endereco_resultado)"
   ]
  },
  {
   "cell_type": "code",
   "execution_count": 17,
   "metadata": {},
   "outputs": [
    {
     "name": "stdout",
     "output_type": "stream",
     "text": [
      "Endereços salvos na aba 'Dados' na planilha 'CEP.xlsx'\n"
     ]
    }
   ],
   "source": [
    "import http.client\n",
    "import json\n",
    "import pandas as pd\n",
    "\n",
    "def obter_endereco_por_cep(cep):\n",
    "    conexao = http.client.HTTPConnection(\"viacep.com.br\")\n",
    "    conexao.request(\"GET\", f\"/ws/{cep}/json/\")\n",
    "    resposta = conexao.getresponse()\n",
    "\n",
    "    if resposta.status != 200:\n",
    "        conexao.close()\n",
    "        return None\n",
    "    \n",
    "    dados = resposta.read()\n",
    "    endereco = json.loads(dados.decode(\"utf-8\"))\n",
    "    conexao.close()\n",
    "\n",
    "    return endereco if \"erro\" not in endereco else None\n",
    "\n",
    "\n",
    "caminho_planilha =  \"CEP.xlsx\"\n",
    "\n",
    "planilha_ceps = pd.read_excel(caminho_planilha,sheet_name='CEP')\n",
    "\n",
    "ceps = planilha_ceps['CEP'].dropna()\n",
    "\n",
    "resultados = pd.DataFrame(columns=['CEP','Logradouro','Bairro','Localidade','UF'])\n",
    "\n",
    "for cep in ceps:\n",
    "    endereco = obter_endereco_por_cep(str(cep).replace('-',''))\n",
    "    if endereco:\n",
    "        nova_linha = pd.DataFrame([{\n",
    "            'CEP':  cep,\n",
    "            'Logradouro': endereco.get('logradouro',''),\n",
    "            'Bairro': endereco.get('bairro',''),\n",
    "            'Localidade': endereco.get('localidade',''),\n",
    "            'UF': endereco.get('uf','')\n",
    "        }])\n",
    "        resultados = pd.concat([resultados, nova_linha], ignore_index=True)\n",
    "\n",
    "with pd.ExcelWriter(caminho_planilha, engine='openpyxl', mode='a', if_sheet_exists='replace') as writer:\n",
    "    resultados.to_excel(writer, sheet_name='Dados', index=False)\n",
    "\n",
    "print(\"Endereços salvos na aba 'Dados' na planilha 'CEP.xlsx'\")"
   ]
  }
 ],
 "metadata": {
  "kernelspec": {
   "display_name": "base",
   "language": "python",
   "name": "python3"
  },
  "language_info": {
   "codemirror_mode": {
    "name": "ipython",
    "version": 3
   },
   "file_extension": ".py",
   "mimetype": "text/x-python",
   "name": "python",
   "nbconvert_exporter": "python",
   "pygments_lexer": "ipython3",
   "version": "3.11.7"
  }
 },
 "nbformat": 4,
 "nbformat_minor": 2
}
