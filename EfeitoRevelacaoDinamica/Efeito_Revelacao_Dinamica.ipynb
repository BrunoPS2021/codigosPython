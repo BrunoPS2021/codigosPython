{
 "cells": [
  {
   "cell_type": "code",
   "execution_count": 12,
   "metadata": {},
   "outputs": [
    {
     "name": "stdout",
     "output_type": "stream",
     "text": [
      "Inicialização completa. Passe o mouse sobre a jenaela para ver o efeito\n"
     ]
    }
   ],
   "source": [
    "import tkinter as tk\n",
    "from PIL import Image, ImageTk, ImageDraw\n",
    "\n",
    "class AplicacaoEfeitoRevelacao:\n",
    "    def __init__(self, janela_principal, caminho_imagem_inferior, caminho_imagem_superior):\n",
    "        self.janela_principal = janela_principal\n",
    "        self.janela_principal.title(\"Efeito de Revelação Dinâmica\")\n",
    "        \n",
    "        try:\n",
    "            self.imagem_inferior = Image.open(caminho_imagem_inferior)\n",
    "            self.imagem_superior = Image.open(caminho_imagem_superior)\n",
    "            self.imagem_superior = self.imagem_superior.resize(self.imagem_inferior.size, Image.Resampling.LANCZOS)\n",
    "            self.tela = tk.Canvas(janela_principal,width=self.imagem_inferior.width,height=self.imagem_inferior.height)\n",
    "            self.tela.pack()\n",
    "            self.tk_imagem_inferior = ImageTk.PhotoImage(self.imagem_inferior)\n",
    "            self.tk_imagem_superior = ImageTk.PhotoImage(self.imagem_superior)\n",
    "\n",
    "            self.tela.create_image(0,0,image=self.tk_imagem_inferior,anchor=\"nw\")\n",
    "            self.tela.bind(\"<Motion>\",self.movimento_mouse)\n",
    "            print(\"Inicialização completa. Passe o mouse sobre a jenaela para ver o efeito\")\n",
    "\n",
    "        except Exception as erro:\n",
    "            print(f\"Erro ao inicializar wa aplicação: {erro}\")\n",
    "    def movimento_mouse(self, evento):\n",
    "\n",
    "        x,y = evento.x, evento.y\n",
    "        mascara = Image.new(\"L\",self.imagem_inferior.size,0)\n",
    "        ImageDraw.Draw(mascara).ellipse((x-50, y-50, x+50, y+50),fill=255)\n",
    "        imagem_com_mascara = Image.composite(self.imagem_superior,self.imagem_inferior,mascara)\n",
    "\n",
    "        self.tk_imagem_com_mascara = ImageTk.PhotoImage(imagem_com_mascara)\n",
    "        self.tela.create_image(0,0,image=self.tk_imagem_com_mascara,anchor=\"nw\")\n",
    "\n",
    "\n",
    "\n",
    "janela_principal = tk.Tk()\n",
    "aplicacao = AplicacaoEfeitoRevelacao(janela_principal,'imagem-inferior.jpeg','imagem-superior.jpeg')\n",
    "janela_principal.mainloop()\n"
   ]
  }
 ],
 "metadata": {
  "kernelspec": {
   "display_name": "base",
   "language": "python",
   "name": "python3"
  },
  "language_info": {
   "codemirror_mode": {
    "name": "ipython",
    "version": 3
   },
   "file_extension": ".py",
   "mimetype": "text/x-python",
   "name": "python",
   "nbconvert_exporter": "python",
   "pygments_lexer": "ipython3",
   "version": "3.11.7"
  }
 },
 "nbformat": 4,
 "nbformat_minor": 2
}
