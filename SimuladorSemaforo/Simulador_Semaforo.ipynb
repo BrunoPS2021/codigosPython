{
 "cells": [
  {
   "cell_type": "code",
   "execution_count": 12,
   "metadata": {},
   "outputs": [],
   "source": [
    "import tkinter as tk\n",
    "\n",
    "class Semaforo:\n",
    "    def __init__(self,janela_principal):\n",
    "        self.janela_principal = janela_principal\n",
    "        self.janela_principal.title(\"Simulador de Semáforo Interativo e Automático\")\n",
    "        self.tela = tk.Canvas(janela_principal,width=200,height=600,bg='black')\n",
    "        self.tela.pack()\n",
    "\n",
    "        self.cores = ['grey','grey','grey']\n",
    "        self.luzes_id = []\n",
    "        self.cores_ativas = ['red','yellow','green']\n",
    "        self.intervalos = [2000,2000,2000]\n",
    "\n",
    "        for i in range(3):\n",
    "            x0,y0 = 50, 50 + 200 * i\n",
    "            x1,y1 = 150, 150 + 200 * i\n",
    "\n",
    "            luz = self.tela.create_oval(x0,y0,x1,y1,fill=self.cores[i],outline='white',width=2)\n",
    "\n",
    "            self.luzes_id.append(luz)\n",
    "\n",
    "            self.tela.tag_bind(luz,'<Button-1>',lambda event,idx=i:self.mudar_cor_manualmente(idx))\n",
    "\n",
    "        self.estado_atual = 0\n",
    "        self.ciclo_id = None\n",
    "        self.mudar_cor_automatically()\n",
    "\n",
    "    def mudar_cor_automatically(self):\n",
    "        self.mudar_cor(self.estado_atual)\n",
    "        self.estado_atual = (self.estado_atual + 1) % 3\n",
    "        self.ciclo_id = self.janela_principal.after(self.intervalos[self.estado_atual], self.mudar_cor_automatically)\n",
    "\n",
    "    def mudar_cor_manualmente(self,index):\n",
    "        if self.ciclo_id:\n",
    "            self.janela_principal.after_cancel(self.ciclo_id)\n",
    "            self.ciclo_id = None\n",
    "            \n",
    "            self.estado_atual = index\n",
    "            self.mudar_cor(self.estado_atual)\n",
    "\n",
    "            self.ciclo_id = self.janela_principal.after(self.intervalos[self.estado_atual],self.mudar_cor_automatically)\n",
    "\n",
    "    def mudar_cor(self, index):\n",
    "        for i in range(3):\n",
    "            if i == index:\n",
    "                self.tela.itemconfig(self.luzes_id[i],fill=self.cores_ativas[i])\n",
    "            else:\n",
    "                self.tela.itemconfig(self.luzes_id[i],fill='grey')\n",
    "\n",
    "janela_principal = tk.Tk()\n",
    "semaforo = Semaforo(janela_principal)\n",
    "\n",
    "janela_principal.mainloop()"
   ]
  }
 ],
 "metadata": {
  "kernelspec": {
   "display_name": "base",
   "language": "python",
   "name": "python3"
  },
  "language_info": {
   "codemirror_mode": {
    "name": "ipython",
    "version": 3
   },
   "file_extension": ".py",
   "mimetype": "text/x-python",
   "name": "python",
   "nbconvert_exporter": "python",
   "pygments_lexer": "ipython3",
   "version": "3.11.7"
  }
 },
 "nbformat": 4,
 "nbformat_minor": 2
}
