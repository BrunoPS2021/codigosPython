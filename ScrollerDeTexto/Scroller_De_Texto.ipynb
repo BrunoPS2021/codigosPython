{
 "cells": [
  {
   "cell_type": "code",
   "execution_count": 7,
   "metadata": {},
   "outputs": [],
   "source": [
    "import tkinter as tk\n",
    "\n",
    "class ScrollerTexto:\n",
    "    def __init__(self, janela_principal):\n",
    "        self.janela_principal = janela_principal\n",
    "        self.janela_principal.title(\"Scroller de Texto Interativo\")\n",
    "        self.largura = 800\n",
    "        self.altura = 100\n",
    "        self.tela = tk.Canvas(janela_principal, width=self.largura, height=self.altura,bg='black')\n",
    "        self.tela.pack()\n",
    "        self.texto = \"Este é um exemplo de scroller de texto usando Python e Tkinter. Continua a rolar...\"\n",
    "        self.texto_id = self.tela.create_text(self.largura, 50, text=self.texto, font=('Helvetica',20), fill='white', anchor='w')\n",
    "        self.velocidade = -2\n",
    "        self.animado = True\n",
    "        self.tela.bind(\"<Enter>\", self.parar_animacao)\n",
    "        self.tela.bind(\"<Leave>\", self.retomar_animacao)\n",
    "        self.mover_texto()\n",
    "\n",
    "    def mover_texto(self):\n",
    "            if self.animado:\n",
    "                self.tela.move(self.texto_id, self.velocidade,0)\n",
    "                pos_x = self.tela.bbox(self.texto_id)[2]\n",
    "\n",
    "                if pos_x < 0:\n",
    "                    self.tela.coords(self.texto_id,self.largura,50)\n",
    "\n",
    "            self.janela_principal.after(50, self.mover_texto)\n",
    "\n",
    "    def parar_animacao(self,event):\n",
    "        self.animado = False\n",
    "\n",
    "    def retomar_animacao(self, event):\n",
    "        self.animado=True\n",
    "\n",
    "\n",
    "\n",
    "janela_principal = tk.Tk()\n",
    "\n",
    "aplicacao = ScrollerTexto(janela_principal)\n",
    "\n",
    "janela_principal.mainloop()"
   ]
  }
 ],
 "metadata": {
  "kernelspec": {
   "display_name": "base",
   "language": "python",
   "name": "python3"
  },
  "language_info": {
   "codemirror_mode": {
    "name": "ipython",
    "version": 3
   },
   "file_extension": ".py",
   "mimetype": "text/x-python",
   "name": "python",
   "nbconvert_exporter": "python",
   "pygments_lexer": "ipython3",
   "version": "3.11.7"
  }
 },
 "nbformat": 4,
 "nbformat_minor": 2
}
